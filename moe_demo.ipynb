{
 "cells": [
  {
   "cell_type": "markdown",
   "metadata": {},
   "source": [
    "# nanoGPT + MoE Demo\n",
    "We follow the variant of MoE in [Mixtral](https://mistral.ai/news/mixtral-of-experts/).\n",
    "\n",
    "---\n",
    "\n",
    "## MoE Modules\n",
    "The following code snippet is the copy of `moe_modules/moe.py`."
   ]
  },
  {
   "cell_type": "code",
   "execution_count": null,
   "metadata": {
    "vscode": {
     "languageId": "plaintext"
    }
   },
   "outputs": [],
   "source": []
  }
 ],
 "metadata": {
  "language_info": {
   "name": "python"
  }
 },
 "nbformat": 4,
 "nbformat_minor": 2
}
